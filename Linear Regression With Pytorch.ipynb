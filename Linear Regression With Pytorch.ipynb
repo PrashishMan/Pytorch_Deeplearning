{
 "cells": [
  {
   "cell_type": "markdown",
   "metadata": {},
   "source": [
    "<h2> 6 Liear regression with pytorch </h2>"
   ]
  },
  {
   "cell_type": "code",
   "execution_count": 1,
   "metadata": {},
   "outputs": [],
   "source": [
    "import numpy as np\n",
    "import matplotlib.pyplot as plt\n",
    "# binding a toy dataset\n",
    "x_train = np.arange(11, dtype = np.float32)"
   ]
  },
  {
   "cell_type": "code",
   "execution_count": 2,
   "metadata": {},
   "outputs": [
    {
     "data": {
      "text/plain": [
       "(11, 1)"
      ]
     },
     "execution_count": 2,
     "metadata": {},
     "output_type": "execute_result"
    }
   ],
   "source": [
    "x_train = x_train.reshape(-1, 1)\n",
    "x_train.shape"
   ]
  },
  {
   "cell_type": "code",
   "execution_count": 3,
   "metadata": {},
   "outputs": [],
   "source": [
    "y_values = np.array([2 * i + 1 for i in x_train])"
   ]
  },
  {
   "cell_type": "code",
   "execution_count": 4,
   "metadata": {},
   "outputs": [
    {
     "data": {
      "text/plain": [
       "(11, 1)"
      ]
     },
     "execution_count": 4,
     "metadata": {},
     "output_type": "execute_result"
    }
   ],
   "source": [
    "y_values.shape"
   ]
  },
  {
   "cell_type": "markdown",
   "metadata": {},
   "source": [
    "<h3> Building the model</h3>\n",
    "<h4> Critical imports </h4>\n"
   ]
  },
  {
   "cell_type": "code",
   "execution_count": 18,
   "metadata": {},
   "outputs": [],
   "source": [
    "import torch\n",
    "import torch.nn as nn\n",
    "from torch.autograd import Variable\n",
    "\n",
    "x= Variable(torch.ones(2,2))"
   ]
  },
  {
   "cell_type": "markdown",
   "metadata": {},
   "source": [
    "<b> Create Model </b>\n",
    "<ul>\n",
    "<li>1 Linear </li>\n",
    "    <ul>\n",
    "        <li> True equation y = 2x + 1\n",
    "    </li></ul>\n",
    "    \n",
    "\n",
    "</ul>"
   ]
  },
  {
   "cell_type": "code",
   "execution_count": 6,
   "metadata": {},
   "outputs": [],
   "source": [
    "# create a class\n",
    "class LinearRegressionModel(nn.Module):\n",
    "    def __init__(self, input_size, output_size):\n",
    "        super(LinearRegressionModel, self).__init__()\n",
    "        self.linear = nn.Linear(input_dim, output_dim)\n",
    "    \n",
    "    def forward(self, x):\n",
    "        out = self.linear(x)\n",
    "        return out"
   ]
  },
  {
   "cell_type": "code",
   "execution_count": 7,
   "metadata": {},
   "outputs": [],
   "source": [
    "input_dim = 1\n",
    "output_dim = 1\n",
    "model = LinearRegressionModel(input_dim, output_dim)"
   ]
  },
  {
   "cell_type": "code",
   "execution_count": 8,
   "metadata": {},
   "outputs": [],
   "source": [
    "# Training in the GPU\n",
    "if torch.cuda.is_available():\n",
    "    model.cuda()"
   ]
  },
  {
   "cell_type": "code",
   "execution_count": 9,
   "metadata": {},
   "outputs": [],
   "source": [
    "# initialte the mean squared error loss\n",
    "criterion = nn.MSELoss()"
   ]
  },
  {
   "cell_type": "code",
   "execution_count": 10,
   "metadata": {},
   "outputs": [
    {
     "data": {
      "text/plain": [
       "<bound method Module.parameters of LinearRegressionModel(\n",
       "  (linear): Linear(in_features=1, out_features=1, bias=True)\n",
       ")>"
      ]
     },
     "execution_count": 10,
     "metadata": {},
     "output_type": "execute_result"
    }
   ],
   "source": [
    "model.parameters"
   ]
  },
  {
   "cell_type": "code",
   "execution_count": 11,
   "metadata": {},
   "outputs": [],
   "source": [
    "# initialte optimizer class\n",
    "learning_rate = 0.01\n",
    "optimizer = torch.optim.SGD(model.parameters(), lr = learning_rate)\n"
   ]
  },
  {
   "cell_type": "code",
   "execution_count": 12,
   "metadata": {},
   "outputs": [
    {
     "name": "stdout",
     "output_type": "stream",
     "text": [
      "Epoch :  1  loss :  tensor(59.7156, grad_fn=<MeanBackward0>)\n",
      "Epoch :  2  loss :  tensor(4.8710, grad_fn=<MeanBackward0>)\n",
      "Epoch :  3  loss :  tensor(0.3975, grad_fn=<MeanBackward0>)\n",
      "Epoch :  4  loss :  tensor(0.0327, grad_fn=<MeanBackward0>)\n",
      "Epoch :  5  loss :  tensor(0.0029, grad_fn=<MeanBackward0>)\n",
      "Epoch :  6  loss :  tensor(0.0005, grad_fn=<MeanBackward0>)\n",
      "Epoch :  7  loss :  tensor(0.0003, grad_fn=<MeanBackward0>)\n",
      "Epoch :  8  loss :  tensor(0.0002, grad_fn=<MeanBackward0>)\n",
      "Epoch :  9  loss :  tensor(0.0002, grad_fn=<MeanBackward0>)\n",
      "Epoch :  10  loss :  tensor(0.0002, grad_fn=<MeanBackward0>)\n",
      "Epoch :  11  loss :  tensor(0.0002, grad_fn=<MeanBackward0>)\n",
      "Epoch :  12  loss :  tensor(0.0002, grad_fn=<MeanBackward0>)\n",
      "Epoch :  13  loss :  tensor(0.0002, grad_fn=<MeanBackward0>)\n",
      "Epoch :  14  loss :  tensor(0.0002, grad_fn=<MeanBackward0>)\n",
      "Epoch :  15  loss :  tensor(0.0002, grad_fn=<MeanBackward0>)\n",
      "Epoch :  16  loss :  tensor(0.0002, grad_fn=<MeanBackward0>)\n",
      "Epoch :  17  loss :  tensor(0.0002, grad_fn=<MeanBackward0>)\n",
      "Epoch :  18  loss :  tensor(0.0002, grad_fn=<MeanBackward0>)\n",
      "Epoch :  19  loss :  tensor(0.0002, grad_fn=<MeanBackward0>)\n",
      "Epoch :  20  loss :  tensor(0.0002, grad_fn=<MeanBackward0>)\n",
      "Epoch :  21  loss :  tensor(0.0002, grad_fn=<MeanBackward0>)\n",
      "Epoch :  22  loss :  tensor(0.0002, grad_fn=<MeanBackward0>)\n",
      "Epoch :  23  loss :  tensor(0.0002, grad_fn=<MeanBackward0>)\n",
      "Epoch :  24  loss :  tensor(0.0002, grad_fn=<MeanBackward0>)\n",
      "Epoch :  25  loss :  tensor(0.0002, grad_fn=<MeanBackward0>)\n",
      "Epoch :  26  loss :  tensor(0.0002, grad_fn=<MeanBackward0>)\n",
      "Epoch :  27  loss :  tensor(0.0002, grad_fn=<MeanBackward0>)\n",
      "Epoch :  28  loss :  tensor(0.0002, grad_fn=<MeanBackward0>)\n",
      "Epoch :  29  loss :  tensor(0.0002, grad_fn=<MeanBackward0>)\n",
      "Epoch :  30  loss :  tensor(0.0002, grad_fn=<MeanBackward0>)\n",
      "Epoch :  31  loss :  tensor(0.0002, grad_fn=<MeanBackward0>)\n",
      "Epoch :  32  loss :  tensor(0.0002, grad_fn=<MeanBackward0>)\n",
      "Epoch :  33  loss :  tensor(0.0002, grad_fn=<MeanBackward0>)\n",
      "Epoch :  34  loss :  tensor(0.0002, grad_fn=<MeanBackward0>)\n",
      "Epoch :  35  loss :  tensor(0.0002, grad_fn=<MeanBackward0>)\n",
      "Epoch :  36  loss :  tensor(0.0002, grad_fn=<MeanBackward0>)\n",
      "Epoch :  37  loss :  tensor(0.0002, grad_fn=<MeanBackward0>)\n",
      "Epoch :  38  loss :  tensor(0.0002, grad_fn=<MeanBackward0>)\n",
      "Epoch :  39  loss :  tensor(0.0002, grad_fn=<MeanBackward0>)\n",
      "Epoch :  40  loss :  tensor(0.0002, grad_fn=<MeanBackward0>)\n",
      "Epoch :  41  loss :  tensor(0.0002, grad_fn=<MeanBackward0>)\n",
      "Epoch :  42  loss :  tensor(0.0002, grad_fn=<MeanBackward0>)\n",
      "Epoch :  43  loss :  tensor(0.0002, grad_fn=<MeanBackward0>)\n",
      "Epoch :  44  loss :  tensor(0.0002, grad_fn=<MeanBackward0>)\n",
      "Epoch :  45  loss :  tensor(0.0002, grad_fn=<MeanBackward0>)\n",
      "Epoch :  46  loss :  tensor(0.0002, grad_fn=<MeanBackward0>)\n",
      "Epoch :  47  loss :  tensor(0.0002, grad_fn=<MeanBackward0>)\n",
      "Epoch :  48  loss :  tensor(0.0002, grad_fn=<MeanBackward0>)\n",
      "Epoch :  49  loss :  tensor(0.0002, grad_fn=<MeanBackward0>)\n",
      "Epoch :  50  loss :  tensor(0.0001, grad_fn=<MeanBackward0>)\n",
      "Epoch :  51  loss :  tensor(0.0001, grad_fn=<MeanBackward0>)\n",
      "Epoch :  52  loss :  tensor(0.0001, grad_fn=<MeanBackward0>)\n",
      "Epoch :  53  loss :  tensor(0.0001, grad_fn=<MeanBackward0>)\n",
      "Epoch :  54  loss :  tensor(0.0001, grad_fn=<MeanBackward0>)\n",
      "Epoch :  55  loss :  tensor(0.0001, grad_fn=<MeanBackward0>)\n",
      "Epoch :  56  loss :  tensor(0.0001, grad_fn=<MeanBackward0>)\n",
      "Epoch :  57  loss :  tensor(0.0001, grad_fn=<MeanBackward0>)\n",
      "Epoch :  58  loss :  tensor(0.0001, grad_fn=<MeanBackward0>)\n",
      "Epoch :  59  loss :  tensor(0.0001, grad_fn=<MeanBackward0>)\n",
      "Epoch :  60  loss :  tensor(0.0001, grad_fn=<MeanBackward0>)\n",
      "Epoch :  61  loss :  tensor(0.0001, grad_fn=<MeanBackward0>)\n",
      "Epoch :  62  loss :  tensor(0.0001, grad_fn=<MeanBackward0>)\n",
      "Epoch :  63  loss :  tensor(0.0001, grad_fn=<MeanBackward0>)\n",
      "Epoch :  64  loss :  tensor(0.0001, grad_fn=<MeanBackward0>)\n",
      "Epoch :  65  loss :  tensor(0.0001, grad_fn=<MeanBackward0>)\n",
      "Epoch :  66  loss :  tensor(0.0001, grad_fn=<MeanBackward0>)\n",
      "Epoch :  67  loss :  tensor(0.0001, grad_fn=<MeanBackward0>)\n",
      "Epoch :  68  loss :  tensor(0.0001, grad_fn=<MeanBackward0>)\n",
      "Epoch :  69  loss :  tensor(0.0001, grad_fn=<MeanBackward0>)\n",
      "Epoch :  70  loss :  tensor(0.0001, grad_fn=<MeanBackward0>)\n",
      "Epoch :  71  loss :  tensor(0.0001, grad_fn=<MeanBackward0>)\n",
      "Epoch :  72  loss :  tensor(0.0001, grad_fn=<MeanBackward0>)\n",
      "Epoch :  73  loss :  tensor(0.0001, grad_fn=<MeanBackward0>)\n",
      "Epoch :  74  loss :  tensor(0.0001, grad_fn=<MeanBackward0>)\n",
      "Epoch :  75  loss :  tensor(0.0001, grad_fn=<MeanBackward0>)\n",
      "Epoch :  76  loss :  tensor(0.0001, grad_fn=<MeanBackward0>)\n",
      "Epoch :  77  loss :  tensor(0.0001, grad_fn=<MeanBackward0>)\n",
      "Epoch :  78  loss :  tensor(0.0001, grad_fn=<MeanBackward0>)\n",
      "Epoch :  79  loss :  tensor(0.0001, grad_fn=<MeanBackward0>)\n",
      "Epoch :  80  loss :  tensor(0.0001, grad_fn=<MeanBackward0>)\n",
      "Epoch :  81  loss :  tensor(0.0001, grad_fn=<MeanBackward0>)\n",
      "Epoch :  82  loss :  tensor(0.0001, grad_fn=<MeanBackward0>)\n",
      "Epoch :  83  loss :  tensor(0.0001, grad_fn=<MeanBackward0>)\n",
      "Epoch :  84  loss :  tensor(0.0001, grad_fn=<MeanBackward0>)\n",
      "Epoch :  85  loss :  tensor(0.0001, grad_fn=<MeanBackward0>)\n",
      "Epoch :  86  loss :  tensor(9.9347e-05, grad_fn=<MeanBackward0>)\n",
      "Epoch :  87  loss :  tensor(9.8236e-05, grad_fn=<MeanBackward0>)\n",
      "Epoch :  88  loss :  tensor(9.7138e-05, grad_fn=<MeanBackward0>)\n",
      "Epoch :  89  loss :  tensor(9.6059e-05, grad_fn=<MeanBackward0>)\n",
      "Epoch :  90  loss :  tensor(9.4980e-05, grad_fn=<MeanBackward0>)\n",
      "Epoch :  91  loss :  tensor(9.3923e-05, grad_fn=<MeanBackward0>)\n",
      "Epoch :  92  loss :  tensor(9.2877e-05, grad_fn=<MeanBackward0>)\n",
      "Epoch :  93  loss :  tensor(9.1838e-05, grad_fn=<MeanBackward0>)\n",
      "Epoch :  94  loss :  tensor(9.0812e-05, grad_fn=<MeanBackward0>)\n",
      "Epoch :  95  loss :  tensor(8.9797e-05, grad_fn=<MeanBackward0>)\n",
      "Epoch :  96  loss :  tensor(8.8794e-05, grad_fn=<MeanBackward0>)\n",
      "Epoch :  97  loss :  tensor(8.7805e-05, grad_fn=<MeanBackward0>)\n",
      "Epoch :  98  loss :  tensor(8.6823e-05, grad_fn=<MeanBackward0>)\n",
      "Epoch :  99  loss :  tensor(8.5852e-05, grad_fn=<MeanBackward0>)\n",
      "Epoch :  100  loss :  tensor(8.4893e-05, grad_fn=<MeanBackward0>)\n"
     ]
    }
   ],
   "source": [
    "# training the model\n",
    "epochs = 100\n",
    "error = 100\n",
    "for epoch in range(epochs):\n",
    "\n",
    "    epoch += 1\n",
    "    # convert numpy array to torch variable\n",
    "    inputs = Variable(torch.from_numpy(x_train))\n",
    "    labels = Variable(torch.from_numpy(y_values))\n",
    "    \n",
    "    # clear gradient w.r.t values\n",
    "    optimizer.zero_grad()\n",
    "    \n",
    "    # forward to get the output\n",
    "    outputs = model(inputs)\n",
    "    \n",
    "    # Calculate the loss\n",
    "    loss = criterion(outputs, labels)\n",
    "    \n",
    "    # Getting gradient w.r.t parameters\n",
    "    loss.backward()\n",
    "    \n",
    "    # updating the parameters\n",
    "    optimizer.step()\n",
    "    \n",
    "    if(error > loss):\n",
    "        error = loss\n",
    "    else:\n",
    "        break\n",
    "    \n",
    "    print(\"Epoch : \", epoch, \" loss : \", torch.mean(loss))"
   ]
  },
  {
   "cell_type": "code",
   "execution_count": 13,
   "metadata": {},
   "outputs": [],
   "source": [
    "# purely ingerence\n",
    "predicted = model(Variable(torch.from_numpy(x_train)))"
   ]
  },
  {
   "cell_type": "code",
   "execution_count": 14,
   "metadata": {},
   "outputs": [],
   "source": [
    "# converting variable to tensor\n",
    "predicted = predicted.data\n",
    "\n",
    "# converting tensor to numpy array\n",
    "predicted = predicted.numpy()"
   ]
  },
  {
   "cell_type": "code",
   "execution_count": 15,
   "metadata": {},
   "outputs": [
    {
     "data": {
      "text/plain": [
       "array([[ 1.0171396],\n",
       "       [ 3.0146713],\n",
       "       [ 5.0122027],\n",
       "       [ 7.009734 ],\n",
       "       [ 9.007266 ],\n",
       "       [11.004798 ],\n",
       "       [13.002329 ],\n",
       "       [14.999861 ],\n",
       "       [16.997393 ],\n",
       "       [18.994925 ],\n",
       "       [20.992456 ]], dtype=float32)"
      ]
     },
     "execution_count": 15,
     "metadata": {},
     "output_type": "execute_result"
    }
   ],
   "source": [
    "predicted"
   ]
  },
  {
   "cell_type": "code",
   "execution_count": 16,
   "metadata": {},
   "outputs": [
    {
     "data": {
      "image/png": "[encoded data removed]",
      "text/plain": [
       "<Figure size 432x288 with 1 Axes>"
      ]
     },
     "metadata": {
      "needs_background": "light"
     },
     "output_type": "display_data"
    }
   ],
   "source": [
    "# clearing the figure\n",
    "plt.clf()\n",
    "\n",
    "\n",
    "\n",
    "# ploting the data\n",
    "plt.plot(x_train, y_values,'o',label = 'True data', alpha = 0.5)\n",
    "\n",
    "# ploting the predictions\n",
    "plt.plot(x_train, predicted, '--', label = \"Predictions\", alpha = 0.5)\n",
    "\n",
    "\n",
    "# ledgends and plots\n",
    "plt.legend(loc = 'best')\n",
    "plt.show()\n"
   ]
  },
  {
   "cell_type": "markdown",
   "metadata": {},
   "source": [
    "<b> Saving the model</b>"
   ]
  },
  {
   "cell_type": "code",
   "execution_count": 17,
   "metadata": {},
   "outputs": [],
   "source": [
    "save_model = False\n",
    "if save_model:\n",
    "    # saves only the parameter\n",
    "    torch.save(model.state_dict(), 'linear_regression.pk1')\n"
   ]
  },
  {
   "cell_type": "markdown",
   "metadata": {},
   "source": [
    "<b> load model </b>"
   ]
  },
  {
   "cell_type": "code",
   "execution_count": 101,
   "metadata": {},
   "outputs": [],
   "source": [
    "load_model = False\n",
    "if load_model:\n",
    "    model.load_state_dict(torch.load('linear_regression.pk1'))"
   ]
  },
  {
   "cell_type": "code",
   "execution_count": null,
   "metadata": {},
   "outputs": [],
   "source": []
  }
 ],
 "metadata": {
  "kernelspec": {
   "display_name": "Python 3",
   "language": "python",
   "name": "python3"
  },
  "language_info": {
   "codemirror_mode": {
    "name": "ipython",
    "version": 3
   },
   "file_extension": ".py",
   "mimetype": "text/x-python",
   "name": "python",
   "nbconvert_exporter": "python",
   "pygments_lexer": "ipython3",
   "version": "3.7.3"
  }
 },
 "nbformat": 4,
 "nbformat_minor": 2
}
